{
  "nbformat": 4,
  "nbformat_minor": 0,
  "metadata": {
    "colab": {
      "provenance": [],
      "gpuType": "L4"
    },
    "kernelspec": {
      "name": "python3",
      "display_name": "Python 3"
    },
    "language_info": {
      "name": "python"
    },
    "accelerator": "GPU"
  },
  "cells": [
    {
      "cell_type": "markdown",
      "source": [
        "# Connecting to Google Drive"
      ],
      "metadata": {
        "id": "Zwk8DKXmbghO"
      }
    },
    {
      "cell_type": "code",
      "execution_count": null,
      "metadata": {
        "id": "c6Grrb8QbJuY"
      },
      "outputs": [],
      "source": [
        "from google.colab import drive\n",
        "drive.mount('/content/drive')"
      ]
    },
    {
      "cell_type": "markdown",
      "source": [
        "# Clone Project and Install Packages\n",
        "When running this code, it may prompt you to \"Restart Session\". Restart the session and continue."
      ],
      "metadata": {
        "id": "qRcsFNl-cdLq"
      }
    },
    {
      "cell_type": "code",
      "source": [
        "import os\n",
        "os.chdir('/content/drive/MyDrive')\n",
        "!git clone https://github.com/AnonymousDog1234/ECE570_Project.git\n",
        "os.chdir('ECE570_Project')\n",
        "!pip install torch torchvision torchaudio --index-url https://download.pytorch.org/whl/cu124\n",
        "!pip install -r /content/drive/MyDrive/ECE570_Project/requirements.txt"
      ],
      "metadata": {
        "id": "Shh_fvjkbrPa"
      },
      "execution_count": null,
      "outputs": []
    },
    {
      "cell_type": "markdown",
      "source": [
        "# Unzip the Dataset\n",
        "If you haven't done so yet, go [here](https://drive.google.com/drive/folders/1u5QCUFQBkO7O4qKPeXFLgYHJcrD3hKoA) to get the dataset. Click the 3 vertical dots and select \"Make a copy\"."
      ],
      "metadata": {
        "id": "LcXNdAl-mWZs"
      }
    },
    {
      "cell_type": "code",
      "source": [
        "from google.colab import drive\n",
        "drive.mount('/content/drive', force_remount=True)\n",
        "\n",
        "!ls \"/content/drive/MyDrive/Copy of lcdp_dataset.7z\"\n",
        "!apt-get install -y p7zip-full\n",
        "!7z x \"/content/drive/MyDrive/Copy of lcdp_dataset.7z\" -o\"/content/drive/MyDrive/ECE570_Project/dataset\""
      ],
      "metadata": {
        "id": "EeQCFzBxmTHQ"
      },
      "execution_count": null,
      "outputs": []
    },
    {
      "cell_type": "markdown",
      "source": [
        "# Test"
      ],
      "metadata": {
        "id": "6ZXoKpp1oYmq"
      }
    },
    {
      "cell_type": "code",
      "source": [
        "!python /content/drive/MyDrive/ECE570_Project/src/test.py checkpoint_path=/content/drive/MyDrive/ECE570_Project/results/pretrained.ckpt"
      ],
      "metadata": {
        "id": "GlI0nhW5m-EP"
      },
      "execution_count": null,
      "outputs": []
    }
  ]
}